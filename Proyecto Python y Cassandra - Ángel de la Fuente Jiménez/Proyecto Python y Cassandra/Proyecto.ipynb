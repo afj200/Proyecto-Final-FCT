{
 "cells": [
  {
   "cell_type": "code",
   "execution_count": 1,
   "metadata": {},
   "outputs": [
    {
     "name": "stdout",
     "output_type": "stream",
     "text": [
      "Collecting cassandra-driver\n",
      "  Downloading cassandra_driver-3.25.0-cp37-cp37m-manylinux1_x86_64.whl (3.8 MB)\n",
      "\u001b[K     |████████████████████████████████| 3.8 MB 6.6 MB/s eta 0:00:01\n",
      "\u001b[?25hRequirement already satisfied: six>=1.9 in /home/usuario/anaconda3/lib/python3.7/site-packages (from cassandra-driver) (1.14.0)\n",
      "Collecting geomet<0.3,>=0.1\n",
      "  Downloading geomet-0.2.1.post1-py3-none-any.whl (18 kB)\n",
      "Requirement already satisfied: click in /home/usuario/anaconda3/lib/python3.7/site-packages (from geomet<0.3,>=0.1->cassandra-driver) (7.0)\n",
      "Installing collected packages: geomet, cassandra-driver\n",
      "Successfully installed cassandra-driver-3.25.0 geomet-0.2.1.post1\n"
     ]
    }
   ],
   "source": [
    "!pip install cassandra-driver"
   ]
  },
  {
   "cell_type": "code",
   "execution_count": 17,
   "metadata": {},
   "outputs": [],
   "source": [
    "from cassandra.cluster import Cluster"
   ]
  },
  {
   "cell_type": "code",
   "execution_count": 18,
   "metadata": {},
   "outputs": [],
   "source": [
    "cluster = Cluster(contact_points=['127.0.0.1'], port = 9042)\n",
    "session = cluster.connect()"
   ]
  },
  {
   "cell_type": "code",
   "execution_count": 2,
   "metadata": {},
   "outputs": [],
   "source": [
    "import pandas as pd\n",
    "import numpy as np"
   ]
  },
  {
   "cell_type": "code",
   "execution_count": 3,
   "metadata": {},
   "outputs": [],
   "source": [
    "suicides = pd.read_csv('./Suicidios.csv', sep=',', header=0, thousands=b',')"
   ]
  },
  {
   "cell_type": "code",
   "execution_count": 4,
   "metadata": {},
   "outputs": [
    {
     "data": {
      "text/html": [
       "<div>\n",
       "<style scoped>\n",
       "    .dataframe tbody tr th:only-of-type {\n",
       "        vertical-align: middle;\n",
       "    }\n",
       "\n",
       "    .dataframe tbody tr th {\n",
       "        vertical-align: top;\n",
       "    }\n",
       "\n",
       "    .dataframe thead th {\n",
       "        text-align: right;\n",
       "    }\n",
       "</style>\n",
       "<table border=\"1\" class=\"dataframe\">\n",
       "  <thead>\n",
       "    <tr style=\"text-align: right;\">\n",
       "      <th></th>\n",
       "      <th>country</th>\n",
       "      <th>year</th>\n",
       "      <th>sex</th>\n",
       "      <th>age</th>\n",
       "      <th>suicides_no</th>\n",
       "      <th>population</th>\n",
       "      <th>suicides/100k pop</th>\n",
       "      <th>country-year</th>\n",
       "      <th>HDI for year</th>\n",
       "      <th>gdp_for_year ($)</th>\n",
       "      <th>gdp_per_capita ($)</th>\n",
       "      <th>generation</th>\n",
       "    </tr>\n",
       "  </thead>\n",
       "  <tbody>\n",
       "    <tr>\n",
       "      <th>0</th>\n",
       "      <td>Albania</td>\n",
       "      <td>1987</td>\n",
       "      <td>male</td>\n",
       "      <td>15-24 years</td>\n",
       "      <td>21</td>\n",
       "      <td>312900</td>\n",
       "      <td>6.71</td>\n",
       "      <td>Albania1987</td>\n",
       "      <td>NaN</td>\n",
       "      <td>2156624900</td>\n",
       "      <td>796</td>\n",
       "      <td>Generation X</td>\n",
       "    </tr>\n",
       "    <tr>\n",
       "      <th>1</th>\n",
       "      <td>Albania</td>\n",
       "      <td>1987</td>\n",
       "      <td>male</td>\n",
       "      <td>35-54 years</td>\n",
       "      <td>16</td>\n",
       "      <td>308000</td>\n",
       "      <td>5.19</td>\n",
       "      <td>Albania1987</td>\n",
       "      <td>NaN</td>\n",
       "      <td>2156624900</td>\n",
       "      <td>796</td>\n",
       "      <td>Silent</td>\n",
       "    </tr>\n",
       "    <tr>\n",
       "      <th>2</th>\n",
       "      <td>Albania</td>\n",
       "      <td>1987</td>\n",
       "      <td>female</td>\n",
       "      <td>15-24 years</td>\n",
       "      <td>14</td>\n",
       "      <td>289700</td>\n",
       "      <td>4.83</td>\n",
       "      <td>Albania1987</td>\n",
       "      <td>NaN</td>\n",
       "      <td>2156624900</td>\n",
       "      <td>796</td>\n",
       "      <td>Generation X</td>\n",
       "    </tr>\n",
       "    <tr>\n",
       "      <th>3</th>\n",
       "      <td>Albania</td>\n",
       "      <td>1987</td>\n",
       "      <td>male</td>\n",
       "      <td>75+ years</td>\n",
       "      <td>1</td>\n",
       "      <td>21800</td>\n",
       "      <td>4.59</td>\n",
       "      <td>Albania1987</td>\n",
       "      <td>NaN</td>\n",
       "      <td>2156624900</td>\n",
       "      <td>796</td>\n",
       "      <td>G.I. Generation</td>\n",
       "    </tr>\n",
       "    <tr>\n",
       "      <th>4</th>\n",
       "      <td>Albania</td>\n",
       "      <td>1987</td>\n",
       "      <td>male</td>\n",
       "      <td>25-34 years</td>\n",
       "      <td>9</td>\n",
       "      <td>274300</td>\n",
       "      <td>3.28</td>\n",
       "      <td>Albania1987</td>\n",
       "      <td>NaN</td>\n",
       "      <td>2156624900</td>\n",
       "      <td>796</td>\n",
       "      <td>Boomers</td>\n",
       "    </tr>\n",
       "  </tbody>\n",
       "</table>\n",
       "</div>"
      ],
      "text/plain": [
       "   country  year     sex          age  suicides_no  population  \\\n",
       "0  Albania  1987    male  15-24 years           21      312900   \n",
       "1  Albania  1987    male  35-54 years           16      308000   \n",
       "2  Albania  1987  female  15-24 years           14      289700   \n",
       "3  Albania  1987    male    75+ years            1       21800   \n",
       "4  Albania  1987    male  25-34 years            9      274300   \n",
       "\n",
       "   suicides/100k pop country-year  HDI for year   gdp_for_year ($)   \\\n",
       "0               6.71  Albania1987           NaN          2156624900   \n",
       "1               5.19  Albania1987           NaN          2156624900   \n",
       "2               4.83  Albania1987           NaN          2156624900   \n",
       "3               4.59  Albania1987           NaN          2156624900   \n",
       "4               3.28  Albania1987           NaN          2156624900   \n",
       "\n",
       "   gdp_per_capita ($)       generation  \n",
       "0                 796     Generation X  \n",
       "1                 796           Silent  \n",
       "2                 796     Generation X  \n",
       "3                 796  G.I. Generation  \n",
       "4                 796          Boomers  "
      ]
     },
     "execution_count": 4,
     "metadata": {},
     "output_type": "execute_result"
    }
   ],
   "source": [
    "suicides.head()"
   ]
  },
  {
   "cell_type": "code",
   "execution_count": 5,
   "metadata": {},
   "outputs": [
    {
     "data": {
      "text/plain": [
       "Index(['country', 'year', 'sex', 'age', 'suicides_no', 'population',\n",
       "       'suicides/100k pop', 'country-year', 'HDI for year',\n",
       "       ' gdp_for_year ($) ', 'gdp_per_capita ($)', 'generation'],\n",
       "      dtype='object')"
      ]
     },
     "execution_count": 5,
     "metadata": {},
     "output_type": "execute_result"
    }
   ],
   "source": [
    "suicides.columns"
   ]
  },
  {
   "cell_type": "code",
   "execution_count": 6,
   "metadata": {},
   "outputs": [],
   "source": [
    "suicides.rename({'suicides/100k pop':'suicides_by_100k_pob', \n",
    "'HDI for year':'HDI_for_year',' gdp_for_year ($) ': 'pib_for_year',\n",
    "'gdp_per_capita ($)': 'pib_per_capita'}, axis=1,    inplace=True)\n"
   ]
  },
  {
   "cell_type": "code",
   "execution_count": 7,
   "metadata": {},
   "outputs": [
    {
     "data": {
      "text/html": [
       "<div>\n",
       "<style scoped>\n",
       "    .dataframe tbody tr th:only-of-type {\n",
       "        vertical-align: middle;\n",
       "    }\n",
       "\n",
       "    .dataframe tbody tr th {\n",
       "        vertical-align: top;\n",
       "    }\n",
       "\n",
       "    .dataframe thead th {\n",
       "        text-align: right;\n",
       "    }\n",
       "</style>\n",
       "<table border=\"1\" class=\"dataframe\">\n",
       "  <thead>\n",
       "    <tr style=\"text-align: right;\">\n",
       "      <th></th>\n",
       "      <th>country</th>\n",
       "      <th>year</th>\n",
       "      <th>sex</th>\n",
       "      <th>age</th>\n",
       "      <th>suicides_no</th>\n",
       "      <th>population</th>\n",
       "      <th>suicides_by_100k_pob</th>\n",
       "      <th>country-year</th>\n",
       "      <th>HDI_for_year</th>\n",
       "      <th>pib_for_year</th>\n",
       "      <th>pib_per_capita</th>\n",
       "      <th>generation</th>\n",
       "    </tr>\n",
       "  </thead>\n",
       "  <tbody>\n",
       "    <tr>\n",
       "      <th>0</th>\n",
       "      <td>Albania</td>\n",
       "      <td>1987</td>\n",
       "      <td>male</td>\n",
       "      <td>15-24 years</td>\n",
       "      <td>21</td>\n",
       "      <td>312900</td>\n",
       "      <td>6.71</td>\n",
       "      <td>Albania1987</td>\n",
       "      <td>NaN</td>\n",
       "      <td>2156624900</td>\n",
       "      <td>796</td>\n",
       "      <td>Generation X</td>\n",
       "    </tr>\n",
       "    <tr>\n",
       "      <th>1</th>\n",
       "      <td>Albania</td>\n",
       "      <td>1987</td>\n",
       "      <td>male</td>\n",
       "      <td>35-54 years</td>\n",
       "      <td>16</td>\n",
       "      <td>308000</td>\n",
       "      <td>5.19</td>\n",
       "      <td>Albania1987</td>\n",
       "      <td>NaN</td>\n",
       "      <td>2156624900</td>\n",
       "      <td>796</td>\n",
       "      <td>Silent</td>\n",
       "    </tr>\n",
       "    <tr>\n",
       "      <th>2</th>\n",
       "      <td>Albania</td>\n",
       "      <td>1987</td>\n",
       "      <td>female</td>\n",
       "      <td>15-24 years</td>\n",
       "      <td>14</td>\n",
       "      <td>289700</td>\n",
       "      <td>4.83</td>\n",
       "      <td>Albania1987</td>\n",
       "      <td>NaN</td>\n",
       "      <td>2156624900</td>\n",
       "      <td>796</td>\n",
       "      <td>Generation X</td>\n",
       "    </tr>\n",
       "    <tr>\n",
       "      <th>3</th>\n",
       "      <td>Albania</td>\n",
       "      <td>1987</td>\n",
       "      <td>male</td>\n",
       "      <td>75+ years</td>\n",
       "      <td>1</td>\n",
       "      <td>21800</td>\n",
       "      <td>4.59</td>\n",
       "      <td>Albania1987</td>\n",
       "      <td>NaN</td>\n",
       "      <td>2156624900</td>\n",
       "      <td>796</td>\n",
       "      <td>G.I. Generation</td>\n",
       "    </tr>\n",
       "    <tr>\n",
       "      <th>4</th>\n",
       "      <td>Albania</td>\n",
       "      <td>1987</td>\n",
       "      <td>male</td>\n",
       "      <td>25-34 years</td>\n",
       "      <td>9</td>\n",
       "      <td>274300</td>\n",
       "      <td>3.28</td>\n",
       "      <td>Albania1987</td>\n",
       "      <td>NaN</td>\n",
       "      <td>2156624900</td>\n",
       "      <td>796</td>\n",
       "      <td>Boomers</td>\n",
       "    </tr>\n",
       "  </tbody>\n",
       "</table>\n",
       "</div>"
      ],
      "text/plain": [
       "   country  year     sex          age  suicides_no  population  \\\n",
       "0  Albania  1987    male  15-24 years           21      312900   \n",
       "1  Albania  1987    male  35-54 years           16      308000   \n",
       "2  Albania  1987  female  15-24 years           14      289700   \n",
       "3  Albania  1987    male    75+ years            1       21800   \n",
       "4  Albania  1987    male  25-34 years            9      274300   \n",
       "\n",
       "   suicides_by_100k_pob country-year  HDI_for_year  pib_for_year  \\\n",
       "0                  6.71  Albania1987           NaN    2156624900   \n",
       "1                  5.19  Albania1987           NaN    2156624900   \n",
       "2                  4.83  Albania1987           NaN    2156624900   \n",
       "3                  4.59  Albania1987           NaN    2156624900   \n",
       "4                  3.28  Albania1987           NaN    2156624900   \n",
       "\n",
       "   pib_per_capita       generation  \n",
       "0             796     Generation X  \n",
       "1             796           Silent  \n",
       "2             796     Generation X  \n",
       "3             796  G.I. Generation  \n",
       "4             796          Boomers  "
      ]
     },
     "execution_count": 7,
     "metadata": {},
     "output_type": "execute_result"
    }
   ],
   "source": [
    "suicides.head()"
   ]
  },
  {
   "cell_type": "code",
   "execution_count": 8,
   "metadata": {},
   "outputs": [
    {
     "data": {
      "text/plain": [
       "Index(['country', 'year', 'sex', 'age', 'suicides_no', 'population',\n",
       "       'suicides_by_100k_pob', 'country-year', 'HDI_for_year', 'pib_for_year',\n",
       "       'pib_per_capita', 'generation'],\n",
       "      dtype='object')"
      ]
     },
     "execution_count": 8,
     "metadata": {},
     "output_type": "execute_result"
    }
   ],
   "source": [
    "suicides.columns"
   ]
  },
  {
   "cell_type": "code",
   "execution_count": 9,
   "metadata": {},
   "outputs": [
    {
     "data": {
      "text/plain": [
       "country                  object\n",
       "year                      int64\n",
       "sex                      object\n",
       "age                      object\n",
       "suicides_no               int64\n",
       "population                int64\n",
       "suicides_by_100k_pob    float64\n",
       "country-year             object\n",
       "HDI_for_year            float64\n",
       "pib_for_year              int64\n",
       "pib_per_capita            int64\n",
       "generation               object\n",
       "dtype: object"
      ]
     },
     "execution_count": 9,
     "metadata": {},
     "output_type": "execute_result"
    }
   ],
   "source": [
    "suicides.dtypes"
   ]
  },
  {
   "cell_type": "code",
   "execution_count": 10,
   "metadata": {},
   "outputs": [
    {
     "data": {
      "text/html": [
       "<div>\n",
       "<style scoped>\n",
       "    .dataframe tbody tr th:only-of-type {\n",
       "        vertical-align: middle;\n",
       "    }\n",
       "\n",
       "    .dataframe tbody tr th {\n",
       "        vertical-align: top;\n",
       "    }\n",
       "\n",
       "    .dataframe thead th {\n",
       "        text-align: right;\n",
       "    }\n",
       "</style>\n",
       "<table border=\"1\" class=\"dataframe\">\n",
       "  <thead>\n",
       "    <tr style=\"text-align: right;\">\n",
       "      <th></th>\n",
       "      <th>year</th>\n",
       "      <th>suicides_no</th>\n",
       "      <th>population</th>\n",
       "      <th>suicides_by_100k_pob</th>\n",
       "      <th>HDI_for_year</th>\n",
       "      <th>pib_for_year</th>\n",
       "      <th>pib_per_capita</th>\n",
       "    </tr>\n",
       "  </thead>\n",
       "  <tbody>\n",
       "    <tr>\n",
       "      <th>count</th>\n",
       "      <td>27820.000000</td>\n",
       "      <td>27820.000000</td>\n",
       "      <td>2.782000e+04</td>\n",
       "      <td>27820.000000</td>\n",
       "      <td>8364.000000</td>\n",
       "      <td>2.782000e+04</td>\n",
       "      <td>27820.000000</td>\n",
       "    </tr>\n",
       "    <tr>\n",
       "      <th>mean</th>\n",
       "      <td>2001.258375</td>\n",
       "      <td>242.574407</td>\n",
       "      <td>1.844794e+06</td>\n",
       "      <td>12.816097</td>\n",
       "      <td>0.776601</td>\n",
       "      <td>4.455810e+11</td>\n",
       "      <td>16866.464414</td>\n",
       "    </tr>\n",
       "    <tr>\n",
       "      <th>std</th>\n",
       "      <td>8.469055</td>\n",
       "      <td>902.047917</td>\n",
       "      <td>3.911779e+06</td>\n",
       "      <td>18.961511</td>\n",
       "      <td>0.093367</td>\n",
       "      <td>1.453610e+12</td>\n",
       "      <td>18887.576472</td>\n",
       "    </tr>\n",
       "    <tr>\n",
       "      <th>min</th>\n",
       "      <td>1985.000000</td>\n",
       "      <td>0.000000</td>\n",
       "      <td>2.780000e+02</td>\n",
       "      <td>0.000000</td>\n",
       "      <td>0.483000</td>\n",
       "      <td>4.691962e+07</td>\n",
       "      <td>251.000000</td>\n",
       "    </tr>\n",
       "    <tr>\n",
       "      <th>25%</th>\n",
       "      <td>1995.000000</td>\n",
       "      <td>3.000000</td>\n",
       "      <td>9.749850e+04</td>\n",
       "      <td>0.920000</td>\n",
       "      <td>0.713000</td>\n",
       "      <td>8.985353e+09</td>\n",
       "      <td>3447.000000</td>\n",
       "    </tr>\n",
       "    <tr>\n",
       "      <th>50%</th>\n",
       "      <td>2002.000000</td>\n",
       "      <td>25.000000</td>\n",
       "      <td>4.301500e+05</td>\n",
       "      <td>5.990000</td>\n",
       "      <td>0.779000</td>\n",
       "      <td>4.811469e+10</td>\n",
       "      <td>9372.000000</td>\n",
       "    </tr>\n",
       "    <tr>\n",
       "      <th>75%</th>\n",
       "      <td>2008.000000</td>\n",
       "      <td>131.000000</td>\n",
       "      <td>1.486143e+06</td>\n",
       "      <td>16.620000</td>\n",
       "      <td>0.855000</td>\n",
       "      <td>2.602024e+11</td>\n",
       "      <td>24874.000000</td>\n",
       "    </tr>\n",
       "    <tr>\n",
       "      <th>max</th>\n",
       "      <td>2016.000000</td>\n",
       "      <td>22338.000000</td>\n",
       "      <td>4.380521e+07</td>\n",
       "      <td>224.970000</td>\n",
       "      <td>0.944000</td>\n",
       "      <td>1.812071e+13</td>\n",
       "      <td>126352.000000</td>\n",
       "    </tr>\n",
       "  </tbody>\n",
       "</table>\n",
       "</div>"
      ],
      "text/plain": [
       "               year   suicides_no    population  suicides_by_100k_pob  \\\n",
       "count  27820.000000  27820.000000  2.782000e+04          27820.000000   \n",
       "mean    2001.258375    242.574407  1.844794e+06             12.816097   \n",
       "std        8.469055    902.047917  3.911779e+06             18.961511   \n",
       "min     1985.000000      0.000000  2.780000e+02              0.000000   \n",
       "25%     1995.000000      3.000000  9.749850e+04              0.920000   \n",
       "50%     2002.000000     25.000000  4.301500e+05              5.990000   \n",
       "75%     2008.000000    131.000000  1.486143e+06             16.620000   \n",
       "max     2016.000000  22338.000000  4.380521e+07            224.970000   \n",
       "\n",
       "       HDI_for_year  pib_for_year  pib_per_capita  \n",
       "count   8364.000000  2.782000e+04    27820.000000  \n",
       "mean       0.776601  4.455810e+11    16866.464414  \n",
       "std        0.093367  1.453610e+12    18887.576472  \n",
       "min        0.483000  4.691962e+07      251.000000  \n",
       "25%        0.713000  8.985353e+09     3447.000000  \n",
       "50%        0.779000  4.811469e+10     9372.000000  \n",
       "75%        0.855000  2.602024e+11    24874.000000  \n",
       "max        0.944000  1.812071e+13   126352.000000  "
      ]
     },
     "execution_count": 10,
     "metadata": {},
     "output_type": "execute_result"
    }
   ],
   "source": [
    "suicides.describe()"
   ]
  },
  {
   "cell_type": "code",
   "execution_count": 11,
   "metadata": {},
   "outputs": [
    {
     "name": "stdout",
     "output_type": "stream",
     "text": [
      "Existen 0 valores nan para la variable 'year'\n",
      "Existen 0 valores nan para la variable 'suicides_no'\n",
      "Existen 0 valores nan para la variable 'population'\n",
      "Existen 0 valores nan para la variable 'suicides_by_100k_pob'\n",
      "Existen 19456 valores nan para la variable 'HDI_for_year'\n",
      "Existen 0 valores nan para la variable 'pib_per_capita'\n"
     ]
    }
   ],
   "source": [
    "print(f\"Existen {np.isnan(suicides.year).sum()} valores nan para la variable 'year'\")\n",
    "print(f\"Existen {np.isnan(suicides.suicides_no).sum()} valores nan para la variable 'suicides_no'\")\n",
    "print(f\"Existen {np.isnan(suicides.population).sum()} valores nan para la variable 'population'\")\n",
    "print(f\"Existen {np.isnan(suicides.suicides_by_100k_pob).sum()} valores nan para la variable 'suicides_by_100k_pob'\")\n",
    "print(f\"Existen {np.isnan(suicides.HDI_for_year).sum()} valores nan para la variable 'HDI_for_year'\")\n",
    "print(f\"Existen {np.isnan(suicides.pib_per_capita).sum()} valores nan para la variable 'pib_per_capita'\")"
   ]
  },
  {
   "cell_type": "code",
   "execution_count": 12,
   "metadata": {},
   "outputs": [],
   "source": [
    "suicides.drop('HDI_for_year', axis=1, inplace=True)"
   ]
  },
  {
   "cell_type": "code",
   "execution_count": 13,
   "metadata": {},
   "outputs": [
    {
     "data": {
      "text/plain": [
       "Index(['country', 'year', 'sex', 'age', 'suicides_no', 'population',\n",
       "       'suicides_by_100k_pob', 'country-year', 'pib_for_year',\n",
       "       'pib_per_capita', 'generation'],\n",
       "      dtype='object')"
      ]
     },
     "execution_count": 13,
     "metadata": {},
     "output_type": "execute_result"
    }
   ],
   "source": [
    "suicides.columns"
   ]
  },
  {
   "cell_type": "code",
   "execution_count": 14,
   "metadata": {},
   "outputs": [],
   "source": [
    "from cassandra.cqlengine import columns\n",
    "from cassandra.cqlengine.models import Model\n",
    "from cassandra.cqlengine import models\n",
    "from cassandra.cqlengine import connection"
   ]
  },
  {
   "cell_type": "code",
   "execution_count": 19,
   "metadata": {},
   "outputs": [
    {
     "data": {
      "text/plain": [
       "<cassandra.cluster.ResultSet at 0x7fbaeeb2c1d0>"
      ]
     },
     "execution_count": 19,
     "metadata": {},
     "output_type": "execute_result"
    }
   ],
   "source": [
    "session.execute(\"\"\"CREATE KEYSPACE IF NOT EXISTS PROYECTO WITH replication = {'class': 'SimpleStrategy','replication_factor' : 1}; \"\"\"\n",
    ")\n"
   ]
  },
  {
   "cell_type": "code",
   "execution_count": 20,
   "metadata": {},
   "outputs": [],
   "source": [
    "session.set_keyspace(\"proyecto\")"
   ]
  },
  {
   "cell_type": "code",
   "execution_count": 21,
   "metadata": {},
   "outputs": [],
   "source": [
    "class Suicide(Model):\n",
    "    country = columns.Text(primary_key = True)\n",
    "    year = columns.Integer(primary_key = True)\n",
    "    sex  = columns.Text(primary_key = True)\n",
    "    age = columns.Text(primary_key = True, clustering_order=\"ASC\")\n",
    "    suicides_no = columns.Integer()\n",
    "    population = columns.BigInt()\n",
    "    suicides_by_100k_pob = columns.Float()\n",
    "    country_year = columns.Text()\n",
    "    pib_for_year = columns.BigInt()\n",
    "    pib_per_capita = columns.BigInt()\n",
    "    generation = columns.Text()"
   ]
  },
  {
   "cell_type": "code",
   "execution_count": 22,
   "metadata": {},
   "outputs": [
    {
     "name": "stderr",
     "output_type": "stream",
     "text": [
      "/home/usuario/anaconda3/lib/python3.7/site-packages/cassandra/cqlengine/management.py:545: UserWarning: CQLENG_ALLOW_SCHEMA_MANAGEMENT environment variable is not set. Future versions of this package will require this variable to enable management functions.\n",
      "  warnings.warn(msg)\n"
     ]
    }
   ],
   "source": [
    "from cassandra.cqlengine.management import sync_table\n",
    "connection.register_connection('cluster3', session=session)\n",
    "sync_table(Suicide, keyspaces=['proyecto'],connections=['cluster3'])\n"
   ]
  },
  {
   "cell_type": "code",
   "execution_count": 23,
   "metadata": {},
   "outputs": [
    {
     "name": "stdout",
     "output_type": "stream",
     "text": [
      "{'column_name': 'age', 'kind': 'clustering', 'type': 'text'}\n",
      "{'column_name': 'country', 'kind': 'partition_key', 'type': 'text'}\n",
      "{'column_name': 'country_year', 'kind': 'regular', 'type': 'text'}\n",
      "{'column_name': 'generation', 'kind': 'regular', 'type': 'text'}\n",
      "{'column_name': 'pib_for_year', 'kind': 'regular', 'type': 'bigint'}\n",
      "{'column_name': 'pib_per_capita', 'kind': 'regular', 'type': 'bigint'}\n",
      "{'column_name': 'population', 'kind': 'regular', 'type': 'bigint'}\n",
      "{'column_name': 'sex', 'kind': 'clustering', 'type': 'text'}\n",
      "{'column_name': 'suicides_by_100k_pob', 'kind': 'regular', 'type': 'float'}\n",
      "{'column_name': 'suicides_no', 'kind': 'regular', 'type': 'int'}\n",
      "{'column_name': 'year', 'kind': 'clustering', 'type': 'int'}\n"
     ]
    }
   ],
   "source": [
    "for row in session.execute(\"\"\"select column_name, kind, type from system_schema.columns WHERE keyspace_name = 'proyecto' ;\"\"\"):\n",
    "    print(row)"
   ]
  },
  {
   "cell_type": "code",
   "execution_count": 24,
   "metadata": {},
   "outputs": [],
   "source": [
    "for index,value in suicides.iterrows():\n",
    "    session.execute(\"\"\" INSERT INTO proyecto.suicide (country, year, sex, age, country_year, generation,pib_for_year, pib_per_capita, population,  suicides_by_100k_pob,suicides_no) VALUES (%s, %s, %s, %s, %s, %s, %s, %s, %s, %s, %s)\"\"\",(value['country'], value['year'], value['sex'], value['age'], value['country-year'], value['generation'], value['pib_for_year'], value['pib_per_capita'],value['population'], value['suicides_by_100k_pob'], value['suicides_no']) )"
   ]
  },
  {
   "cell_type": "code",
   "execution_count": 25,
   "metadata": {},
   "outputs": [],
   "source": [
    "all_rows = session.execute(\"\"\"SELECT * FROM proyecto.suicide\"\"\")"
   ]
  },
  {
   "cell_type": "code",
   "execution_count": 26,
   "metadata": {},
   "outputs": [
    {
     "name": "stdout",
     "output_type": "stream",
     "text": [
      "En Ecuador en el año 1985 hubo 58 suicidios de genero female con edades comprendidas en 15-24 years \n",
      "En Ecuador en el año 1985 hubo 31 suicidios de genero female con edades comprendidas en 25-34 years \n",
      "En Ecuador en el año 1985 hubo 15 suicidios de genero female con edades comprendidas en 35-54 years \n",
      "En Ecuador en el año 1985 hubo 4 suicidios de genero female con edades comprendidas en 5-14 years \n",
      "En Ecuador en el año 1985 hubo 4 suicidios de genero female con edades comprendidas en 55-74 years \n",
      "En Ecuador en el año 1985 hubo 2 suicidios de genero female con edades comprendidas en 75+ years \n",
      "En Ecuador en el año 1985 hubo 104 suicidios de genero male con edades comprendidas en 15-24 years \n",
      "En Ecuador en el año 1985 hubo 70 suicidios de genero male con edades comprendidas en 25-34 years \n",
      "En Ecuador en el año 1985 hubo 57 suicidios de genero male con edades comprendidas en 35-54 years \n",
      "En Ecuador en el año 1985 hubo 7 suicidios de genero male con edades comprendidas en 5-14 years \n",
      "En Ecuador en el año 1985 hubo 33 suicidios de genero male con edades comprendidas en 55-74 years \n",
      "En Ecuador en el año 1985 hubo 8 suicidios de genero male con edades comprendidas en 75+ years \n",
      "En Ecuador en el año 1986 hubo 74 suicidios de genero female con edades comprendidas en 15-24 years \n",
      "En Ecuador en el año 1986 hubo 28 suicidios de genero female con edades comprendidas en 25-34 years \n",
      "En Ecuador en el año 1986 hubo 12 suicidios de genero female con edades comprendidas en 35-54 years \n",
      "En Ecuador en el año 1986 hubo 6 suicidios de genero female con edades comprendidas en 5-14 years \n",
      "En Ecuador en el año 1986 hubo 7 suicidios de genero female con edades comprendidas en 55-74 years \n",
      "En Ecuador en el año 1986 hubo 4 suicidios de genero female con edades comprendidas en 75+ years \n",
      "En Ecuador en el año 1986 hubo 87 suicidios de genero male con edades comprendidas en 15-24 years \n",
      "En Ecuador en el año 1986 hubo 67 suicidios de genero male con edades comprendidas en 25-34 years \n"
     ]
    }
   ],
   "source": [
    "for row in all_rows[0:20]:\n",
    "    print(f\"\"\"En {row['country']} en el año {row['year']} hubo {row['suicides_no']} suicidios de genero {row['sex']} con edades comprendidas en {row['age']} \"\"\")"
   ]
  },
  {
   "cell_type": "code",
   "execution_count": 29,
   "metadata": {},
   "outputs": [],
   "source": [
    "df = pd.DataFrame()\n",
    "for row in all_rows[:20]:\n",
    "    df = df.append(row, ignore_index=True)"
   ]
  },
  {
   "cell_type": "code",
   "execution_count": 30,
   "metadata": {},
   "outputs": [
    {
     "data": {
      "text/html": [
       "<div>\n",
       "<style scoped>\n",
       "    .dataframe tbody tr th:only-of-type {\n",
       "        vertical-align: middle;\n",
       "    }\n",
       "\n",
       "    .dataframe tbody tr th {\n",
       "        vertical-align: top;\n",
       "    }\n",
       "\n",
       "    .dataframe thead th {\n",
       "        text-align: right;\n",
       "    }\n",
       "</style>\n",
       "<table border=\"1\" class=\"dataframe\">\n",
       "  <thead>\n",
       "    <tr style=\"text-align: right;\">\n",
       "      <th></th>\n",
       "      <th>age</th>\n",
       "      <th>country</th>\n",
       "      <th>country_year</th>\n",
       "      <th>generation</th>\n",
       "      <th>pib_for_year</th>\n",
       "      <th>pib_per_capita</th>\n",
       "      <th>population</th>\n",
       "      <th>sex</th>\n",
       "      <th>suicides_by_100k_pob</th>\n",
       "      <th>suicides_no</th>\n",
       "      <th>year</th>\n",
       "    </tr>\n",
       "  </thead>\n",
       "  <tbody>\n",
       "    <tr>\n",
       "      <th>0</th>\n",
       "      <td>15-24 years</td>\n",
       "      <td>Ecuador</td>\n",
       "      <td>Ecuador1985</td>\n",
       "      <td>Generation X</td>\n",
       "      <td>1.714909e+10</td>\n",
       "      <td>2238.0</td>\n",
       "      <td>897700.0</td>\n",
       "      <td>female</td>\n",
       "      <td>6.46</td>\n",
       "      <td>58.0</td>\n",
       "      <td>1985.0</td>\n",
       "    </tr>\n",
       "    <tr>\n",
       "      <th>1</th>\n",
       "      <td>25-34 years</td>\n",
       "      <td>Ecuador</td>\n",
       "      <td>Ecuador1985</td>\n",
       "      <td>Boomers</td>\n",
       "      <td>1.714909e+10</td>\n",
       "      <td>2238.0</td>\n",
       "      <td>600800.0</td>\n",
       "      <td>female</td>\n",
       "      <td>5.16</td>\n",
       "      <td>31.0</td>\n",
       "      <td>1985.0</td>\n",
       "    </tr>\n",
       "    <tr>\n",
       "      <th>2</th>\n",
       "      <td>35-54 years</td>\n",
       "      <td>Ecuador</td>\n",
       "      <td>Ecuador1985</td>\n",
       "      <td>Silent</td>\n",
       "      <td>1.714909e+10</td>\n",
       "      <td>2238.0</td>\n",
       "      <td>692800.0</td>\n",
       "      <td>female</td>\n",
       "      <td>2.17</td>\n",
       "      <td>15.0</td>\n",
       "      <td>1985.0</td>\n",
       "    </tr>\n",
       "    <tr>\n",
       "      <th>3</th>\n",
       "      <td>5-14 years</td>\n",
       "      <td>Ecuador</td>\n",
       "      <td>Ecuador1985</td>\n",
       "      <td>Generation X</td>\n",
       "      <td>1.714909e+10</td>\n",
       "      <td>2238.0</td>\n",
       "      <td>1262600.0</td>\n",
       "      <td>female</td>\n",
       "      <td>0.32</td>\n",
       "      <td>4.0</td>\n",
       "      <td>1985.0</td>\n",
       "    </tr>\n",
       "    <tr>\n",
       "      <th>4</th>\n",
       "      <td>55-74 years</td>\n",
       "      <td>Ecuador</td>\n",
       "      <td>Ecuador1985</td>\n",
       "      <td>G.I. Generation</td>\n",
       "      <td>1.714909e+10</td>\n",
       "      <td>2238.0</td>\n",
       "      <td>303000.0</td>\n",
       "      <td>female</td>\n",
       "      <td>1.32</td>\n",
       "      <td>4.0</td>\n",
       "      <td>1985.0</td>\n",
       "    </tr>\n",
       "  </tbody>\n",
       "</table>\n",
       "</div>"
      ],
      "text/plain": [
       "           age  country country_year       generation  pib_for_year  \\\n",
       "0  15-24 years  Ecuador  Ecuador1985     Generation X  1.714909e+10   \n",
       "1  25-34 years  Ecuador  Ecuador1985          Boomers  1.714909e+10   \n",
       "2  35-54 years  Ecuador  Ecuador1985           Silent  1.714909e+10   \n",
       "3   5-14 years  Ecuador  Ecuador1985     Generation X  1.714909e+10   \n",
       "4  55-74 years  Ecuador  Ecuador1985  G.I. Generation  1.714909e+10   \n",
       "\n",
       "   pib_per_capita  population     sex  suicides_by_100k_pob  suicides_no  \\\n",
       "0          2238.0    897700.0  female                  6.46         58.0   \n",
       "1          2238.0    600800.0  female                  5.16         31.0   \n",
       "2          2238.0    692800.0  female                  2.17         15.0   \n",
       "3          2238.0   1262600.0  female                  0.32          4.0   \n",
       "4          2238.0    303000.0  female                  1.32          4.0   \n",
       "\n",
       "     year  \n",
       "0  1985.0  \n",
       "1  1985.0  \n",
       "2  1985.0  \n",
       "3  1985.0  \n",
       "4  1985.0  "
      ]
     },
     "execution_count": 30,
     "metadata": {},
     "output_type": "execute_result"
    }
   ],
   "source": [
    "df.head()"
   ]
  },
  {
   "cell_type": "code",
   "execution_count": 31,
   "metadata": {},
   "outputs": [
    {
     "data": {
      "text/plain": [
       "age                      object\n",
       "country                  object\n",
       "country_year             object\n",
       "generation               object\n",
       "pib_for_year            float64\n",
       "pib_per_capita          float64\n",
       "population              float64\n",
       "sex                      object\n",
       "suicides_by_100k_pob    float64\n",
       "suicides_no             float64\n",
       "year                    float64\n",
       "dtype: object"
      ]
     },
     "execution_count": 31,
     "metadata": {},
     "output_type": "execute_result"
    }
   ],
   "source": [
    "df.dtypes"
   ]
  },
  {
   "cell_type": "code",
   "execution_count": 33,
   "metadata": {},
   "outputs": [],
   "source": [
    "num_paises = session.execute(\"\"\" SELECT country FROM suicide \"\"\")\n",
    "df_num_paises = pd.DataFrame()\n",
    "for row in num_paises:\n",
    "    df_num_paises = df_num_paises.append(row, ignore_index = True)"
   ]
  },
  {
   "cell_type": "code",
   "execution_count": 34,
   "metadata": {},
   "outputs": [
    {
     "data": {
      "text/html": [
       "<div>\n",
       "<style scoped>\n",
       "    .dataframe tbody tr th:only-of-type {\n",
       "        vertical-align: middle;\n",
       "    }\n",
       "\n",
       "    .dataframe tbody tr th {\n",
       "        vertical-align: top;\n",
       "    }\n",
       "\n",
       "    .dataframe thead th {\n",
       "        text-align: right;\n",
       "    }\n",
       "</style>\n",
       "<table border=\"1\" class=\"dataframe\">\n",
       "  <thead>\n",
       "    <tr style=\"text-align: right;\">\n",
       "      <th></th>\n",
       "      <th>country</th>\n",
       "    </tr>\n",
       "  </thead>\n",
       "  <tbody>\n",
       "    <tr>\n",
       "      <th>0</th>\n",
       "      <td>Ecuador</td>\n",
       "    </tr>\n",
       "    <tr>\n",
       "      <th>1</th>\n",
       "      <td>Ecuador</td>\n",
       "    </tr>\n",
       "    <tr>\n",
       "      <th>2</th>\n",
       "      <td>Ecuador</td>\n",
       "    </tr>\n",
       "    <tr>\n",
       "      <th>3</th>\n",
       "      <td>Ecuador</td>\n",
       "    </tr>\n",
       "    <tr>\n",
       "      <th>4</th>\n",
       "      <td>Ecuador</td>\n",
       "    </tr>\n",
       "  </tbody>\n",
       "</table>\n",
       "</div>"
      ],
      "text/plain": [
       "   country\n",
       "0  Ecuador\n",
       "1  Ecuador\n",
       "2  Ecuador\n",
       "3  Ecuador\n",
       "4  Ecuador"
      ]
     },
     "execution_count": 34,
     "metadata": {},
     "output_type": "execute_result"
    }
   ],
   "source": [
    "df_num_paises.head()"
   ]
  },
  {
   "cell_type": "code",
   "execution_count": 35,
   "metadata": {},
   "outputs": [
    {
     "name": "stdout",
     "output_type": "stream",
     "text": [
      "Existen datos de 101 paises\n"
     ]
    }
   ],
   "source": [
    "print(f\"Existen datos de {len(df_num_paises.country.unique())} paises\")"
   ]
  },
  {
   "cell_type": "code",
   "execution_count": 36,
   "metadata": {},
   "outputs": [],
   "source": [
    "suicide_greater_250 = session.execute(\"\"\" SELECT * FROM suicide WHERE suicides_no > 250 ALLOW FILTERING\"\"\")\n",
    "df_suicide_greater_250 = pd.DataFrame()\n",
    "for row in suicide_greater_250:\n",
    "    df_suicide_greater_250 = df_suicide_greater_250.append(row, ignore_index = True)"
   ]
  },
  {
   "cell_type": "code",
   "execution_count": 37,
   "metadata": {},
   "outputs": [
    {
     "data": {
      "text/html": [
       "<div>\n",
       "<style scoped>\n",
       "    .dataframe tbody tr th:only-of-type {\n",
       "        vertical-align: middle;\n",
       "    }\n",
       "\n",
       "    .dataframe tbody tr th {\n",
       "        vertical-align: top;\n",
       "    }\n",
       "\n",
       "    .dataframe thead th {\n",
       "        text-align: right;\n",
       "    }\n",
       "</style>\n",
       "<table border=\"1\" class=\"dataframe\">\n",
       "  <thead>\n",
       "    <tr style=\"text-align: right;\">\n",
       "      <th></th>\n",
       "      <th>age</th>\n",
       "      <th>country</th>\n",
       "      <th>country_year</th>\n",
       "      <th>generation</th>\n",
       "      <th>pib_for_year</th>\n",
       "      <th>pib_per_capita</th>\n",
       "      <th>population</th>\n",
       "      <th>sex</th>\n",
       "      <th>suicides_by_100k_pob</th>\n",
       "      <th>suicides_no</th>\n",
       "      <th>year</th>\n",
       "    </tr>\n",
       "  </thead>\n",
       "  <tbody>\n",
       "    <tr>\n",
       "      <th>0</th>\n",
       "      <td>55-74 years</td>\n",
       "      <td>Spain</td>\n",
       "      <td>Spain1985</td>\n",
       "      <td>G.I. Generation</td>\n",
       "      <td>1.803024e+11</td>\n",
       "      <td>5009.0</td>\n",
       "      <td>3683300.0</td>\n",
       "      <td>female</td>\n",
       "      <td>7.520000</td>\n",
       "      <td>277.0</td>\n",
       "      <td>1985.0</td>\n",
       "    </tr>\n",
       "    <tr>\n",
       "      <th>1</th>\n",
       "      <td>35-54 years</td>\n",
       "      <td>Spain</td>\n",
       "      <td>Spain1985</td>\n",
       "      <td>Silent</td>\n",
       "      <td>1.803024e+11</td>\n",
       "      <td>5009.0</td>\n",
       "      <td>4471200.0</td>\n",
       "      <td>male</td>\n",
       "      <td>11.120000</td>\n",
       "      <td>497.0</td>\n",
       "      <td>1985.0</td>\n",
       "    </tr>\n",
       "    <tr>\n",
       "      <th>2</th>\n",
       "      <td>55-74 years</td>\n",
       "      <td>Spain</td>\n",
       "      <td>Spain1985</td>\n",
       "      <td>G.I. Generation</td>\n",
       "      <td>1.803024e+11</td>\n",
       "      <td>5009.0</td>\n",
       "      <td>3115900.0</td>\n",
       "      <td>male</td>\n",
       "      <td>20.030001</td>\n",
       "      <td>624.0</td>\n",
       "      <td>1985.0</td>\n",
       "    </tr>\n",
       "    <tr>\n",
       "      <th>3</th>\n",
       "      <td>75+ years</td>\n",
       "      <td>Spain</td>\n",
       "      <td>Spain1985</td>\n",
       "      <td>G.I. Generation</td>\n",
       "      <td>1.803024e+11</td>\n",
       "      <td>5009.0</td>\n",
       "      <td>691500.0</td>\n",
       "      <td>male</td>\n",
       "      <td>44.110001</td>\n",
       "      <td>305.0</td>\n",
       "      <td>1985.0</td>\n",
       "    </tr>\n",
       "    <tr>\n",
       "      <th>4</th>\n",
       "      <td>55-74 years</td>\n",
       "      <td>Spain</td>\n",
       "      <td>Spain1986</td>\n",
       "      <td>G.I. Generation</td>\n",
       "      <td>2.506385e+11</td>\n",
       "      <td>6919.0</td>\n",
       "      <td>3738800.0</td>\n",
       "      <td>female</td>\n",
       "      <td>8.050000</td>\n",
       "      <td>301.0</td>\n",
       "      <td>1986.0</td>\n",
       "    </tr>\n",
       "  </tbody>\n",
       "</table>\n",
       "</div>"
      ],
      "text/plain": [
       "           age country country_year       generation  pib_for_year  \\\n",
       "0  55-74 years   Spain    Spain1985  G.I. Generation  1.803024e+11   \n",
       "1  35-54 years   Spain    Spain1985           Silent  1.803024e+11   \n",
       "2  55-74 years   Spain    Spain1985  G.I. Generation  1.803024e+11   \n",
       "3    75+ years   Spain    Spain1985  G.I. Generation  1.803024e+11   \n",
       "4  55-74 years   Spain    Spain1986  G.I. Generation  2.506385e+11   \n",
       "\n",
       "   pib_per_capita  population     sex  suicides_by_100k_pob  suicides_no  \\\n",
       "0          5009.0   3683300.0  female              7.520000        277.0   \n",
       "1          5009.0   4471200.0    male             11.120000        497.0   \n",
       "2          5009.0   3115900.0    male             20.030001        624.0   \n",
       "3          5009.0    691500.0    male             44.110001        305.0   \n",
       "4          6919.0   3738800.0  female              8.050000        301.0   \n",
       "\n",
       "     year  \n",
       "0  1985.0  \n",
       "1  1985.0  \n",
       "2  1985.0  \n",
       "3  1985.0  \n",
       "4  1986.0  "
      ]
     },
     "execution_count": 37,
     "metadata": {},
     "output_type": "execute_result"
    }
   ],
   "source": [
    "df_suicide_greater_250.head()"
   ]
  },
  {
   "cell_type": "code",
   "execution_count": 38,
   "metadata": {},
   "outputs": [
    {
     "data": {
      "text/plain": [
       "(4619, 11)"
      ]
     },
     "execution_count": 38,
     "metadata": {},
     "output_type": "execute_result"
    }
   ],
   "source": [
    "df_suicide_greater_250.shape"
   ]
  },
  {
   "cell_type": "code",
   "execution_count": 39,
   "metadata": {},
   "outputs": [
    {
     "ename": "InvalidRequest",
     "evalue": "Error from server: code=2200 [Invalid query] message=\"PRIMARY KEY column \"sex\" cannot be restricted as preceding column \"year\" is not restricted\"",
     "output_type": "error",
     "traceback": [
      "\u001b[0;31m---------------------------------------------------------------------------\u001b[0m",
      "\u001b[0;31mInvalidRequest\u001b[0m                            Traceback (most recent call last)",
      "\u001b[0;32m<ipython-input-39-b3384d930c27>\u001b[0m in \u001b[0;36m<module>\u001b[0;34m\u001b[0m\n\u001b[0;32m----> 1\u001b[0;31m \u001b[0mfemale_suicides\u001b[0m \u001b[0;34m=\u001b[0m \u001b[0msession\u001b[0m\u001b[0;34m.\u001b[0m\u001b[0mexecute\u001b[0m\u001b[0;34m(\u001b[0m\u001b[0;34m\"\"\" SELECT * FROM suicide WHERE sex = 'female'\"\"\"\u001b[0m\u001b[0;34m)\u001b[0m\u001b[0;34m\u001b[0m\u001b[0;34m\u001b[0m\u001b[0m\n\u001b[0m",
      "\u001b[0;32m~/anaconda3/lib/python3.7/site-packages/cassandra/cluster.cpython-37m-x86_64-linux-gnu.so\u001b[0m in \u001b[0;36mcassandra.cluster.Session.execute\u001b[0;34m()\u001b[0m\n",
      "\u001b[0;32m~/anaconda3/lib/python3.7/site-packages/cassandra/cluster.cpython-37m-x86_64-linux-gnu.so\u001b[0m in \u001b[0;36mcassandra.cluster.ResponseFuture.result\u001b[0;34m()\u001b[0m\n",
      "\u001b[0;31mInvalidRequest\u001b[0m: Error from server: code=2200 [Invalid query] message=\"PRIMARY KEY column \"sex\" cannot be restricted as preceding column \"year\" is not restricted\""
     ]
    }
   ],
   "source": [
    "female_suicides = session.execute(\"\"\" SELECT * FROM suicide WHERE sex = 'female'\"\"\")"
   ]
  },
  {
   "cell_type": "code",
   "execution_count": 40,
   "metadata": {},
   "outputs": [
    {
     "data": {
      "text/plain": [
       "<cassandra.cluster.ResultSet at 0x7fbae43dedd0>"
      ]
     },
     "execution_count": 40,
     "metadata": {},
     "output_type": "execute_result"
    }
   ],
   "source": [
    "session.execute(\"\"\" CREATE INDEX IF NOT EXISTS sex_suicide ON suicide (sex)\"\"\")"
   ]
  },
  {
   "cell_type": "code",
   "execution_count": 41,
   "metadata": {},
   "outputs": [],
   "source": [
    "female_suicides = session.execute(\"\"\" SELECT * FROM suicide WHERE sex = 'female'\"\"\")"
   ]
  },
  {
   "cell_type": "code",
   "execution_count": 43,
   "metadata": {},
   "outputs": [],
   "source": [
    "df_female_suicides = pd.DataFrame()\n",
    "for row in female_suicides:\n",
    "    df_female_suicides = df_female_suicides.append(row, ignore_index =  True)"
   ]
  },
  {
   "cell_type": "code",
   "execution_count": 44,
   "metadata": {},
   "outputs": [
    {
     "data": {
      "text/html": [
       "<div>\n",
       "<style scoped>\n",
       "    .dataframe tbody tr th:only-of-type {\n",
       "        vertical-align: middle;\n",
       "    }\n",
       "\n",
       "    .dataframe tbody tr th {\n",
       "        vertical-align: top;\n",
       "    }\n",
       "\n",
       "    .dataframe thead th {\n",
       "        text-align: right;\n",
       "    }\n",
       "</style>\n",
       "<table border=\"1\" class=\"dataframe\">\n",
       "  <thead>\n",
       "    <tr style=\"text-align: right;\">\n",
       "      <th></th>\n",
       "      <th>age</th>\n",
       "      <th>country</th>\n",
       "      <th>country_year</th>\n",
       "      <th>generation</th>\n",
       "      <th>pib_for_year</th>\n",
       "      <th>pib_per_capita</th>\n",
       "      <th>population</th>\n",
       "      <th>sex</th>\n",
       "      <th>suicides_by_100k_pob</th>\n",
       "      <th>suicides_no</th>\n",
       "      <th>year</th>\n",
       "    </tr>\n",
       "  </thead>\n",
       "  <tbody>\n",
       "    <tr>\n",
       "      <th>0</th>\n",
       "      <td>15-24 years</td>\n",
       "      <td>Ecuador</td>\n",
       "      <td>Ecuador1985</td>\n",
       "      <td>Generation X</td>\n",
       "      <td>1.714909e+10</td>\n",
       "      <td>2238.0</td>\n",
       "      <td>897700.0</td>\n",
       "      <td>female</td>\n",
       "      <td>6.46</td>\n",
       "      <td>58.0</td>\n",
       "      <td>1985.0</td>\n",
       "    </tr>\n",
       "    <tr>\n",
       "      <th>1</th>\n",
       "      <td>25-34 years</td>\n",
       "      <td>Ecuador</td>\n",
       "      <td>Ecuador1985</td>\n",
       "      <td>Boomers</td>\n",
       "      <td>1.714909e+10</td>\n",
       "      <td>2238.0</td>\n",
       "      <td>600800.0</td>\n",
       "      <td>female</td>\n",
       "      <td>5.16</td>\n",
       "      <td>31.0</td>\n",
       "      <td>1985.0</td>\n",
       "    </tr>\n",
       "    <tr>\n",
       "      <th>2</th>\n",
       "      <td>35-54 years</td>\n",
       "      <td>Ecuador</td>\n",
       "      <td>Ecuador1985</td>\n",
       "      <td>Silent</td>\n",
       "      <td>1.714909e+10</td>\n",
       "      <td>2238.0</td>\n",
       "      <td>692800.0</td>\n",
       "      <td>female</td>\n",
       "      <td>2.17</td>\n",
       "      <td>15.0</td>\n",
       "      <td>1985.0</td>\n",
       "    </tr>\n",
       "    <tr>\n",
       "      <th>3</th>\n",
       "      <td>5-14 years</td>\n",
       "      <td>Ecuador</td>\n",
       "      <td>Ecuador1985</td>\n",
       "      <td>Generation X</td>\n",
       "      <td>1.714909e+10</td>\n",
       "      <td>2238.0</td>\n",
       "      <td>1262600.0</td>\n",
       "      <td>female</td>\n",
       "      <td>0.32</td>\n",
       "      <td>4.0</td>\n",
       "      <td>1985.0</td>\n",
       "    </tr>\n",
       "    <tr>\n",
       "      <th>4</th>\n",
       "      <td>55-74 years</td>\n",
       "      <td>Ecuador</td>\n",
       "      <td>Ecuador1985</td>\n",
       "      <td>G.I. Generation</td>\n",
       "      <td>1.714909e+10</td>\n",
       "      <td>2238.0</td>\n",
       "      <td>303000.0</td>\n",
       "      <td>female</td>\n",
       "      <td>1.32</td>\n",
       "      <td>4.0</td>\n",
       "      <td>1985.0</td>\n",
       "    </tr>\n",
       "  </tbody>\n",
       "</table>\n",
       "</div>"
      ],
      "text/plain": [
       "           age  country country_year       generation  pib_for_year  \\\n",
       "0  15-24 years  Ecuador  Ecuador1985     Generation X  1.714909e+10   \n",
       "1  25-34 years  Ecuador  Ecuador1985          Boomers  1.714909e+10   \n",
       "2  35-54 years  Ecuador  Ecuador1985           Silent  1.714909e+10   \n",
       "3   5-14 years  Ecuador  Ecuador1985     Generation X  1.714909e+10   \n",
       "4  55-74 years  Ecuador  Ecuador1985  G.I. Generation  1.714909e+10   \n",
       "\n",
       "   pib_per_capita  population     sex  suicides_by_100k_pob  suicides_no  \\\n",
       "0          2238.0    897700.0  female                  6.46         58.0   \n",
       "1          2238.0    600800.0  female                  5.16         31.0   \n",
       "2          2238.0    692800.0  female                  2.17         15.0   \n",
       "3          2238.0   1262600.0  female                  0.32          4.0   \n",
       "4          2238.0    303000.0  female                  1.32          4.0   \n",
       "\n",
       "     year  \n",
       "0  1985.0  \n",
       "1  1985.0  \n",
       "2  1985.0  \n",
       "3  1985.0  \n",
       "4  1985.0  "
      ]
     },
     "execution_count": 44,
     "metadata": {},
     "output_type": "execute_result"
    }
   ],
   "source": [
    "df_female_suicides.head()"
   ]
  },
  {
   "cell_type": "code",
   "execution_count": null,
   "metadata": {},
   "outputs": [],
   "source": []
  }
 ],
 "metadata": {
  "kernelspec": {
   "display_name": "Python 3",
   "language": "python",
   "name": "python3"
  },
  "language_info": {
   "codemirror_mode": {
    "name": "ipython",
    "version": 3
   },
   "file_extension": ".py",
   "mimetype": "text/x-python",
   "name": "python",
   "nbconvert_exporter": "python",
   "pygments_lexer": "ipython3",
   "version": "3.7.6"
  }
 },
 "nbformat": 4,
 "nbformat_minor": 4
}
